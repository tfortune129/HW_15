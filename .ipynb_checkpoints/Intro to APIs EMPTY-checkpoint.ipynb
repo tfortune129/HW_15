{
 "cells": [
  {
   "cell_type": "markdown",
   "id": "7196054f",
   "metadata": {},
   "source": [
    "# Working with APIs"
   ]
  },
  {
   "cell_type": "markdown",
   "id": "0547b71e",
   "metadata": {},
   "source": [
    "API stands for Application programming interface<br>\n",
    "APIs are a way for applications to talk to eachother<br>\n",
    "In python we use the requests package to handle the connection<br>\n",
    "<small><strong>Note: It is requests with an s not request(this is a different package)</strong></small><br>\n",
    "Most API's communicate with data in the form of JSON<br>\n",
    "JSON stands for JavaScript Object Notation"
   ]
  },
  {
   "cell_type": "code",
   "execution_count": 1,
   "id": "4db9d154",
   "metadata": {},
   "outputs": [],
   "source": [
    "#import the packages we need:\n"
   ]
  },
  {
   "cell_type": "markdown",
   "id": "e8c2ce51",
   "metadata": {},
   "source": [
    "We will be connecting to the Ergast F1 Racer API today:\n",
    "http://ergast.com/mrd/\n",
    "\n",
    "to view JSON data nicely in the Chrome browser install the extension JSONview"
   ]
  },
  {
   "cell_type": "code",
   "execution_count": null,
   "id": "52c440c6",
   "metadata": {},
   "outputs": [],
   "source": []
  },
  {
   "cell_type": "code",
   "execution_count": null,
   "id": "f60c1b4a",
   "metadata": {},
   "outputs": [],
   "source": []
  },
  {
   "cell_type": "code",
   "execution_count": 2,
   "id": "7b63a204",
   "metadata": {},
   "outputs": [],
   "source": [
    "#response object\n"
   ]
  },
  {
   "cell_type": "code",
   "execution_count": 3,
   "id": "c6d1fdaf",
   "metadata": {},
   "outputs": [],
   "source": [
    "#check and make sure we got a successful response from the API\n"
   ]
  },
  {
   "cell_type": "code",
   "execution_count": 4,
   "id": "ed4d3256",
   "metadata": {},
   "outputs": [],
   "source": [
    "#view the response as a JSON\n"
   ]
  },
  {
   "cell_type": "code",
   "execution_count": null,
   "id": "92e6cd2c",
   "metadata": {},
   "outputs": [],
   "source": []
  },
  {
   "cell_type": "code",
   "execution_count": 5,
   "id": "f074dfcf",
   "metadata": {},
   "outputs": [],
   "source": [
    "# We only want the Driver Standings\n"
   ]
  },
  {
   "cell_type": "code",
   "execution_count": null,
   "id": "be46a950",
   "metadata": {},
   "outputs": [],
   "source": []
  },
  {
   "cell_type": "code",
   "execution_count": null,
   "id": "3740c752",
   "metadata": {},
   "outputs": [],
   "source": []
  },
  {
   "cell_type": "markdown",
   "id": "6d546014",
   "metadata": {},
   "source": [
    "# <strong>Homework</strong>\n",
    "check out this Pokemon API https://pokeapi.co/\n",
    "Use the requests package to connect to this API and get and store data for 5 different pokemon.\n",
    "Get the pokemons: name, atleast one ability's name, base_experience, and the URL for its sprite (an image that shows up on screen) for the 'front_shiny', attack base_state, hp base_stat, defense base_stat"
   ]
  },
  {
   "cell_type": "code",
   "execution_count": 86,
   "id": "5a9081e3",
   "metadata": {},
   "outputs": [
    {
     "name": "stdout",
     "output_type": "stream",
     "text": [
      "<Response [200]>\n",
      "True\n",
      "Pokemon:\n",
      "Name: pikachu, ability: {'name': 'static', 'url': 'https://pokeapi.co/api/v2/ability/9/'}, base-experience: 112, sprite: https://raw.githubusercontent.com/PokeAPI/sprites/master/sprites/pokemon/shiny/25.png, and stats: 35, 55, 40.\n",
      "<Response [200]>\n",
      "True\n",
      "Pokemon:\n",
      "Name: squirtle, ability: {'name': 'torrent', 'url': 'https://pokeapi.co/api/v2/ability/67/'}, base-experience: 63, sprite: https://raw.githubusercontent.com/PokeAPI/sprites/master/sprites/pokemon/shiny/7.png, and stats: 44, 48, 65.\n",
      "<Response [200]>\n",
      "True\n",
      "Pokemon:\n",
      "Name: pikachu, ability: {'name': 'static', 'url': 'https://pokeapi.co/api/v2/ability/9/'}, base-experience: 112, sprite: https://raw.githubusercontent.com/PokeAPI/sprites/master/sprites/pokemon/shiny/25.png, and stats: 35, 55, 40.\n",
      "<Response [200]>\n",
      "True\n",
      "Pokemon:\n",
      "Name: mewtwo, ability: {'name': 'pressure', 'url': 'https://pokeapi.co/api/v2/ability/46/'}, base-experience: 340, sprite: https://raw.githubusercontent.com/PokeAPI/sprites/master/sprites/pokemon/shiny/150.png, and stats: 106, 110, 90.\n",
      "<Response [200]>\n",
      "True\n",
      "Pokemon:\n",
      "Name: jigglypuff, ability: {'name': 'cute-charm', 'url': 'https://pokeapi.co/api/v2/ability/56/'}, base-experience: 95, sprite: https://raw.githubusercontent.com/PokeAPI/sprites/master/sprites/pokemon/shiny/39.png, and stats: 115, 45, 20.\n"
     ]
    }
   ],
   "source": [
    "import requests, json\n",
    "url = 'https://pokeapi.co/api/v2/pokemon/'\n",
    "       \n",
    "def pokemon(id):\n",
    "    response = requests.get(url + id)\n",
    "    print (response)\n",
    "    print (response.ok)\n",
    "    if response.ok:\n",
    "        data = response.json()\n",
    "\n",
    "        names = data['forms'][0]['name']\n",
    "        drivers = data['abilities'][0]['ability']\n",
    "        experience = data['base_experience']\n",
    "        sprites = data['sprites']['front_shiny']\n",
    "        hp_stats = data['stats'][0]['base_stat']\n",
    "        attack_stats = data['stats'][1]['base_stat']\n",
    "        defense_stats = data['stats'][2]['base_stat']\n",
    "\n",
    "    return(f'Pokemon:\\nName: {names}, ability: {drivers}, base-experience: {experience}, sprite: {sprites}, and stats: {hp_stats}, {attack_stats}, {defense_stats}.')\n",
    "#     my_list = []\n",
    "#     for name in names:\n",
    "#         char = name['name']\n",
    "#     for info in drivers:\n",
    "#         power = info['ability']['name'] \n",
    "# #     for x in experience:\n",
    "# #         xp = int(x)\n",
    "#     for sprite in sprites:\n",
    "#         image = sprite[2], sprite[1]\n",
    "# #     for stat in stats:\n",
    "# #         value = stat['base_stat'][1]['name']\n",
    "#         my_list.append(f'{power}, {char}, {image}')\n",
    "#     print (my_list)\n",
    "\n",
    "print (pokemon('pikachu'))\n",
    "print (pokemon('squirtle'))\n",
    "print (pokemon('pikachu'))\n",
    "print (pokemon('mewtwo'))\n",
    "print (pokemon('jigglypuff'))\n"
   ]
  },
  {
   "cell_type": "code",
   "execution_count": null,
   "id": "f5191d6c",
   "metadata": {},
   "outputs": [],
   "source": [
    "pokemon = int(input(Insert a value to get data on a )"
   ]
  }
 ],
 "metadata": {
  "kernelspec": {
   "display_name": "Python 3 (ipykernel)",
   "language": "python",
   "name": "python3"
  },
  "language_info": {
   "codemirror_mode": {
    "name": "ipython",
    "version": 3
   },
   "file_extension": ".py",
   "mimetype": "text/x-python",
   "name": "python",
   "nbconvert_exporter": "python",
   "pygments_lexer": "ipython3",
   "version": "3.9.13"
  }
 },
 "nbformat": 4,
 "nbformat_minor": 5
}
